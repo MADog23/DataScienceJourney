{
 "cells": [
  {
   "cell_type": "markdown",
   "id": "26225e90-ac72-4834-9b24-73f0227785a2",
   "metadata": {},
   "source": [
    "# Data Science Tools and Ecosystem"
   ]
  },
  {
   "cell_type": "markdown",
   "id": "4e193fab-60fc-49b8-bd2d-2868e6e4d019",
   "metadata": {},
   "source": [
    "## Author\n",
    "Matthew DeZemplen"
   ]
  },
  {
   "cell_type": "markdown",
   "id": "dc6151ac-8869-4a4e-bbcd-9486fd5dcfc3",
   "metadata": {},
   "source": [
    "In this notebook, Data Science Tools and Ecosystem are summarized."
   ]
  },
  {
   "cell_type": "markdown",
   "id": "87c8c087-17d1-4ca8-9cf7-1c0a67f8641a",
   "metadata": {},
   "source": [
    "**Objectives:**\n",
    "* Be able to list popular languages used in Data Science\n",
    "* Learn what libraries are commonly used by Data Scientists unviersally\n",
    "* Discover some of the Open-Source enviroments used as popular tools in Data Science\n",
    "* See how to evaluate arithmetic expressions in Python"
   ]
  },
  {
   "cell_type": "markdown",
   "id": "7dbfb674-3dc2-494f-b49c-73df9510dcd8",
   "metadata": {},
   "source": [
    "Some of the popular languages that Data Scientists use are:\n",
    "1. Python\n",
    "2. R\n",
    "3. SQL"
   ]
  },
  {
   "cell_type": "markdown",
   "id": "042bcb04-92dd-4cb8-b745-6cf12438d7b9",
   "metadata": {},
   "source": [
    "Some of the commonly used libraries used by Data Scientists include:\n",
    "1. Pandas\n",
    "2. Numpy\n",
    "3. Matplotlib\n",
    "4. Keras\n",
    "5. Pytorch\n",
    "6. Tensorflow"
   ]
  },
  {
   "cell_type": "markdown",
   "id": "7829d5b0-1f6d-45b3-9b09-b7016f20c9cc",
   "metadata": {},
   "source": [
    "| Data Science Tools |\n",
    "|--------------------|\n",
    "|    JupyterLab      |\n",
    "|     R Studio       |\n",
    "|   Apache Spark     |"
   ]
  },
  {
   "cell_type": "markdown",
   "id": "2680b09f-d5e4-46f1-bf36-6d3cda6cb0bd",
   "metadata": {},
   "source": [
    "### Below are a few examples of evaluating arithmetic expressions in Python"
   ]
  },
  {
   "cell_type": "code",
   "execution_count": 24,
   "id": "b243704a-fca1-4779-8559-c8cec5d16e02",
   "metadata": {},
   "outputs": [
    {
     "data": {
      "text/plain": [
       "17"
      ]
     },
     "execution_count": 24,
     "metadata": {},
     "output_type": "execute_result"
    }
   ],
   "source": [
    "# This a simple arithmetic expression to mutiply then add integers\n",
    "(3*4)+5"
   ]
  },
  {
   "cell_type": "code",
   "execution_count": 26,
   "id": "2d66b904-2b1e-4557-b04a-9964a7d63163",
   "metadata": {},
   "outputs": [
    {
     "name": "stdout",
     "output_type": "stream",
     "text": [
      "200  minutes is equivalent to  3.3333333333333335  hours!\n"
     ]
    }
   ],
   "source": [
    "# This will convert 200 minutes to hours by diving by 60\n",
    "minutes = 200\n",
    "hours = minutes/60\n",
    "print(minutes,\" minutes is equivalent to \",hours,\" hours!\")"
   ]
  }
 ],
 "metadata": {
  "kernelspec": {
   "display_name": "Python 3 (ipykernel)",
   "language": "python",
   "name": "python3"
  },
  "language_info": {
   "codemirror_mode": {
    "name": "ipython",
    "version": 3
   },
   "file_extension": ".py",
   "mimetype": "text/x-python",
   "name": "python",
   "nbconvert_exporter": "python",
   "pygments_lexer": "ipython3",
   "version": "3.12.4"
  }
 },
 "nbformat": 4,
 "nbformat_minor": 5
}
